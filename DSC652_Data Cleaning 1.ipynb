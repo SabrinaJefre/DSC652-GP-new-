{
 "cells": [
  {
   "cell_type": "code",
   "execution_count": 1,
   "id": "3f09b762",
   "metadata": {},
   "outputs": [],
   "source": [
    "import pandas as pd\n",
    "import numpy as np\n",
    "import string"
   ]
  },
  {
   "cell_type": "code",
   "execution_count": 2,
   "id": "b99ff108",
   "metadata": {},
   "outputs": [
    {
     "name": "stdout",
     "output_type": "stream",
     "text": [
      "     Are you selfemployed Do you have a family history of mental illness  \\\n",
      "0                   False                                             No   \n",
      "1                   False                                             No   \n",
      "2                   False                                             No   \n",
      "3                   False                                             No   \n",
      "4                   False                                             No   \n",
      "..                    ...                                            ...   \n",
      "919                 False                                            Yes   \n",
      "920                 False                                            Yes   \n",
      "921                 False                                            Yes   \n",
      "922                 False                                            Yes   \n",
      "923                 False                                            Yes   \n",
      "\n",
      "    Have you had a mental health disorder in the past  \\\n",
      "0                                                  No   \n",
      "1                                                  No   \n",
      "2                                                  No   \n",
      "3                                                  No   \n",
      "4                                                  No   \n",
      "..                                                ...   \n",
      "919                                               Yes   \n",
      "920                                               Yes   \n",
      "921                                               Yes   \n",
      "922                                               Yes   \n",
      "923                                               Yes   \n",
      "\n",
      "    Do you currently have a mental health disorder  \\\n",
      "0                                            Maybe   \n",
      "1                                            Maybe   \n",
      "2                                            Maybe   \n",
      "3                                            Maybe   \n",
      "4                                            Maybe   \n",
      "..                                             ...   \n",
      "919                                             No   \n",
      "920                                             No   \n",
      "921                                             No   \n",
      "922                                             No   \n",
      "923                                             No   \n",
      "\n",
      "                            If yes  \\\n",
      "0    Anxiety Disorder (Generalized   \n",
      "1    Anxiety Disorder (Generalized   \n",
      "2    Anxiety Disorder (Generalized   \n",
      "3    Anxiety Disorder (Generalized   \n",
      "4    Anxiety Disorder (Generalized   \n",
      "..                             ...   \n",
      "919               Bipolar Disorder   \n",
      "920               Bipolar Disorder   \n",
      "921               Bipolar Disorder   \n",
      "922               Bipolar Disorder   \n",
      "923               Bipolar Disorder   \n",
      "\n",
      "          what conditions have you been diagnosed with  \\\n",
      "0                                               Social   \n",
      "1                                               Social   \n",
      "2                                               Social   \n",
      "3                                               Social   \n",
      "4                                               Social   \n",
      "..                                                 ...   \n",
      "919   etc)|Attention Deficit Hyperactivity Disorder...   \n",
      "920   etc)|Attention Deficit Hyperactivity Disorder...   \n",
      "921   etc)|Attention Deficit Hyperactivity Disorder...   \n",
      "922   etc)|Attention Deficit Hyperactivity Disorder...   \n",
      "923   etc)|Attention Deficit Hyperactivity Disorder...   \n",
      "\n",
      "    Have you been diagnosed with a mental health condition by a medical professional  \\\n",
      "0                                                False                                 \n",
      "1                                                False                                 \n",
      "2                                                False                                 \n",
      "3                                                False                                 \n",
      "4                                                False                                 \n",
      "..                                                 ...                                 \n",
      "919                                              False                                 \n",
      "920                                              False                                 \n",
      "921                                              False                                 \n",
      "922                                              False                                 \n",
      "923                                              False                                 \n",
      "\n",
      "                 If so            what conditions were you diagnosed with  \\\n",
      "0                 etc)                                   Bipolar Disorder   \n",
      "1                 etc)                                   Bipolar Disorder   \n",
      "2                 etc)                                   Bipolar Disorder   \n",
      "3                 etc)                                   Bipolar Disorder   \n",
      "4                 etc)                                   Bipolar Disorder   \n",
      "..                 ...                                                ...   \n",
      "919   Bipolar Disorder   etc)|Attention Deficit Hyperactivity Disorder...   \n",
      "920   Bipolar Disorder   etc)|Attention Deficit Hyperactivity Disorder...   \n",
      "921   Bipolar Disorder   etc)|Attention Deficit Hyperactivity Disorder...   \n",
      "922   Bipolar Disorder   etc)|Attention Deficit Hyperactivity Disorder...   \n",
      "923   Bipolar Disorder   etc)|Attention Deficit Hyperactivity Disorder...   \n",
      "\n",
      "    Have you ever sought treatment for a mental health issue from a mental health professional  \\\n",
      "0                                                 True                                           \n",
      "1                                                 True                                           \n",
      "2                                                 True                                           \n",
      "3                                                 True                                           \n",
      "4                                                 True                                           \n",
      "..                                                 ...                                           \n",
      "919                                              False                                           \n",
      "920                                              False                                           \n",
      "921                                              False                                           \n",
      "922                                              False                                           \n",
      "923                                              False                                           \n",
      "\n",
      "     What is your age What is your gender  Age Group  \\\n",
      "0                  35                 Male     31-35   \n",
      "1                  35                 Male     31-35   \n",
      "2                  35                 Male     31-35   \n",
      "3                  35                 Male     31-35   \n",
      "4                  35                 Male     31-35   \n",
      "..                ...                  ...       ...   \n",
      "919                32                 Male     31-35   \n",
      "920                32                 Male     31-35   \n",
      "921                32                 Male     31-35   \n",
      "922                32                 Male     31-35   \n",
      "923                32                 Male     31-35   \n",
      "\n",
      "    What country do you live in Do you work remotely  \n",
      "0                       Germany                Never  \n",
      "1                       Germany                Never  \n",
      "2                       Germany                Never  \n",
      "3                       Germany                Never  \n",
      "4                       Germany                Never  \n",
      "..                          ...                  ...  \n",
      "919                      Canada            Sometimes  \n",
      "920                      Canada            Sometimes  \n",
      "921                      Canada            Sometimes  \n",
      "922                      Canada            Sometimes  \n",
      "923                      Canada            Sometimes  \n",
      "\n",
      "[924 rows x 15 columns]\n"
     ]
    }
   ],
   "source": [
    "df = pd.read_excel(\"OSMI-DataCleaned.xlsx\")\n",
    "print(df)"
   ]
  },
  {
   "cell_type": "code",
   "execution_count": 3,
   "id": "b0b4f32f",
   "metadata": {},
   "outputs": [
    {
     "name": "stdout",
     "output_type": "stream",
     "text": [
      "<class 'pandas.core.frame.DataFrame'>\n",
      "RangeIndex: 924 entries, 0 to 923\n",
      "Data columns (total 15 columns):\n",
      " #   Column                                                                                      Non-Null Count  Dtype \n",
      "---  ------                                                                                      --------------  ----- \n",
      " 0   Are you selfemployed                                                                        924 non-null    bool  \n",
      " 1   Do you have a family history of mental illness                                              924 non-null    object\n",
      " 2   Have you had a mental health disorder in the past                                           924 non-null    object\n",
      " 3   Do you currently have a mental health disorder                                              924 non-null    object\n",
      " 4   If yes                                                                                      924 non-null    object\n",
      " 5    what conditions have you been diagnosed with                                               924 non-null    object\n",
      " 6   Have you been diagnosed with a mental health condition by a medical professional            924 non-null    object\n",
      " 7   If so                                                                                       924 non-null    object\n",
      " 8    what conditions were you diagnosed with                                                    924 non-null    object\n",
      " 9   Have you ever sought treatment for a mental health issue from a mental health professional  924 non-null    object\n",
      " 10  What is your age                                                                            924 non-null    int64 \n",
      " 11  What is your gender                                                                         924 non-null    object\n",
      " 12  Age Group                                                                                   924 non-null    object\n",
      " 13  What country do you live in                                                                 924 non-null    object\n",
      " 14  Do you work remotely                                                                        924 non-null    object\n",
      "dtypes: bool(1), int64(1), object(13)\n",
      "memory usage: 102.1+ KB\n"
     ]
    }
   ],
   "source": [
    "df.info()"
   ]
  },
  {
   "cell_type": "code",
   "execution_count": 4,
   "id": "419842f0",
   "metadata": {},
   "outputs": [],
   "source": [
    "df['Have you been diagnosed with a mental health condition by a medical professional'] = df['Have you been diagnosed with a mental health condition by a medical professional'] .astype('str')\n",
    "df['If so'] = df['If so'] .astype('str')\n",
    "df[' what conditions were you diagnosed with'] = df[' what conditions were you diagnosed with'] .astype('str')\n",
    "df['What is your gender '] = df['What is your gender '] .astype('str')\n",
    "df['What country do you live in'] = df['What country do you live in'] .astype('str')\n",
    "df['Age Group'] = df['Age Group'] .astype('str')\n",
    "df['Do you work remotely'] = df['Do you work remotely'] .astype('str')\n",
    "df['Are you selfemployed'] = df['Are you selfemployed'] .astype('str')\n",
    "df['Do you have a family history of mental illness'] = df['Do you have a family history of mental illness'] .astype('str')\n",
    "df['Have you had a mental health disorder in the past'] = df['Have you had a mental health disorder in the past'] .astype('str')\n",
    "df['Do you currently have a mental health disorder'] = df['Do you currently have a mental health disorder'] .astype('str')\n",
    "df['If yes'] = df['If yes'] .astype('str')"
   ]
  },
  {
   "cell_type": "code",
   "execution_count": 5,
   "id": "470bb570",
   "metadata": {},
   "outputs": [
    {
     "data": {
      "text/plain": [
       "Index(['Are you selfemployed',\n",
       "       'Do you have a family history of mental illness',\n",
       "       'Have you had a mental health disorder in the past',\n",
       "       'Do you currently have a mental health disorder', 'If yes',\n",
       "       ' what conditions have you been diagnosed with',\n",
       "       'Have you been diagnosed with a mental health condition by a medical professional',\n",
       "       'If so', ' what conditions were you diagnosed with',\n",
       "       'Have you ever sought treatment for a mental health issue from a mental health professional',\n",
       "       'What is your age', 'What is your gender ', 'Age Group',\n",
       "       'What country do you live in', 'Do you work remotely'],\n",
       "      dtype='object')"
      ]
     },
     "execution_count": 5,
     "metadata": {},
     "output_type": "execute_result"
    }
   ],
   "source": [
    "df.columns"
   ]
  },
  {
   "cell_type": "code",
   "execution_count": 5,
   "id": "1b0ac3b0",
   "metadata": {},
   "outputs": [
    {
     "name": "stdout",
     "output_type": "stream",
     "text": [
      "<class 'pandas.core.frame.DataFrame'>\n",
      "RangeIndex: 924 entries, 0 to 923\n",
      "Data columns (total 15 columns):\n",
      " #   Column                                                                                      Non-Null Count  Dtype \n",
      "---  ------                                                                                      --------------  ----- \n",
      " 0   Are you selfemployed                                                                        924 non-null    object\n",
      " 1   Do you have a family history of mental illness                                              924 non-null    object\n",
      " 2   Have you had a mental health disorder in the past                                           924 non-null    object\n",
      " 3   Do you currently have a mental health disorder                                              924 non-null    object\n",
      " 4   If yes                                                                                      924 non-null    object\n",
      " 5    what conditions have you been diagnosed with                                               924 non-null    object\n",
      " 6   Have you been diagnosed with a mental health condition by a medical professional            924 non-null    object\n",
      " 7   If so                                                                                       924 non-null    object\n",
      " 8    what conditions were you diagnosed with                                                    924 non-null    object\n",
      " 9   Have you ever sought treatment for a mental health issue from a mental health professional  924 non-null    object\n",
      " 10  What is your age                                                                            924 non-null    int64 \n",
      " 11  What is your gender                                                                         924 non-null    object\n",
      " 12  Age Group                                                                                   924 non-null    object\n",
      " 13  What country do you live in                                                                 924 non-null    object\n",
      " 14  Do you work remotely                                                                        924 non-null    object\n",
      "dtypes: int64(1), object(14)\n",
      "memory usage: 108.4+ KB\n"
     ]
    }
   ],
   "source": [
    "df.info()"
   ]
  },
  {
   "cell_type": "code",
   "execution_count": 6,
   "id": "053a02ac",
   "metadata": {},
   "outputs": [],
   "source": [
    "df.to_csv(r\"C:\\Users\\aspire 3\\Downloads\\newOSMI-Data1.csv\")"
   ]
  },
  {
   "cell_type": "code",
   "execution_count": null,
   "id": "46731348",
   "metadata": {},
   "outputs": [],
   "source": []
  }
 ],
 "metadata": {
  "kernelspec": {
   "display_name": "Python 3 (ipykernel)",
   "language": "python",
   "name": "python3"
  },
  "language_info": {
   "codemirror_mode": {
    "name": "ipython",
    "version": 3
   },
   "file_extension": ".py",
   "mimetype": "text/x-python",
   "name": "python",
   "nbconvert_exporter": "python",
   "pygments_lexer": "ipython3",
   "version": "3.9.7"
  }
 },
 "nbformat": 4,
 "nbformat_minor": 5
}
